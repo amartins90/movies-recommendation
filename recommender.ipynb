{
 "cells": [
  {
   "cell_type": "code",
   "execution_count": 1,
   "id": "0c7e70a1-d69e-41b9-b473-18aa85588373",
   "metadata": {
    "tags": []
   },
   "outputs": [],
   "source": [
    "import pandas as pd"
   ]
  },
  {
   "cell_type": "code",
   "execution_count": 2,
   "id": "9950d8e8-abaa-4513-b336-28a320feb19e",
   "metadata": {
    "tags": []
   },
   "outputs": [
    {
     "data": {
      "text/html": [
       "<div>\n",
       "<style scoped>\n",
       "    .dataframe tbody tr th:only-of-type {\n",
       "        vertical-align: middle;\n",
       "    }\n",
       "\n",
       "    .dataframe tbody tr th {\n",
       "        vertical-align: top;\n",
       "    }\n",
       "\n",
       "    .dataframe thead th {\n",
       "        text-align: right;\n",
       "    }\n",
       "</style>\n",
       "<table border=\"1\" class=\"dataframe\">\n",
       "  <thead>\n",
       "    <tr style=\"text-align: right;\">\n",
       "      <th></th>\n",
       "      <th>userId</th>\n",
       "      <th>movieId</th>\n",
       "      <th>tag</th>\n",
       "      <th>timestamp</th>\n",
       "    </tr>\n",
       "  </thead>\n",
       "  <tbody>\n",
       "    <tr>\n",
       "      <th>0</th>\n",
       "      <td>18</td>\n",
       "      <td>4141</td>\n",
       "      <td>Mark Waters</td>\n",
       "      <td>2009-04-24 18:19:40</td>\n",
       "    </tr>\n",
       "    <tr>\n",
       "      <th>1</th>\n",
       "      <td>65</td>\n",
       "      <td>208</td>\n",
       "      <td>dark hero</td>\n",
       "      <td>2013-05-10 01:41:18</td>\n",
       "    </tr>\n",
       "    <tr>\n",
       "      <th>2</th>\n",
       "      <td>65</td>\n",
       "      <td>353</td>\n",
       "      <td>dark hero</td>\n",
       "      <td>2013-05-10 01:41:19</td>\n",
       "    </tr>\n",
       "    <tr>\n",
       "      <th>3</th>\n",
       "      <td>65</td>\n",
       "      <td>521</td>\n",
       "      <td>noir thriller</td>\n",
       "      <td>2013-05-10 01:39:43</td>\n",
       "    </tr>\n",
       "    <tr>\n",
       "      <th>4</th>\n",
       "      <td>65</td>\n",
       "      <td>592</td>\n",
       "      <td>dark hero</td>\n",
       "      <td>2013-05-10 01:41:18</td>\n",
       "    </tr>\n",
       "  </tbody>\n",
       "</table>\n",
       "</div>"
      ],
      "text/plain": [
       "   userId  movieId            tag            timestamp\n",
       "0      18     4141    Mark Waters  2009-04-24 18:19:40\n",
       "1      65      208      dark hero  2013-05-10 01:41:18\n",
       "2      65      353      dark hero  2013-05-10 01:41:19\n",
       "3      65      521  noir thriller  2013-05-10 01:39:43\n",
       "4      65      592      dark hero  2013-05-10 01:41:18"
      ]
     },
     "execution_count": 2,
     "metadata": {},
     "output_type": "execute_result"
    }
   ],
   "source": [
    "# Load tags dataframe\n",
    "tag_df = pd.read_csv('data/tag.csv')\n",
    "tag_df.head()"
   ]
  },
  {
   "cell_type": "code",
   "execution_count": 3,
   "id": "b5ca754b-dd15-441e-bcaf-516bc73f323f",
   "metadata": {
    "tags": []
   },
   "outputs": [],
   "source": [
    "# Remove unnecessary columns\n",
    "tag_df.drop(['userId', 'timestamp'], axis=1, inplace=True)"
   ]
  },
  {
   "cell_type": "code",
   "execution_count": 4,
   "id": "fbf48827-4865-4030-ae2b-8f3e09ee8205",
   "metadata": {
    "tags": []
   },
   "outputs": [],
   "source": [
    "# Convert all tags to lower case\n",
    "tag_df['tag'] = tag_df['tag'].str.lower()"
   ]
  },
  {
   "cell_type": "code",
   "execution_count": 5,
   "id": "e2dff311-21bc-41e4-8b3d-0739ab17bf80",
   "metadata": {
    "tags": []
   },
   "outputs": [
    {
     "data": {
      "text/html": [
       "<div>\n",
       "<style scoped>\n",
       "    .dataframe tbody tr th:only-of-type {\n",
       "        vertical-align: middle;\n",
       "    }\n",
       "\n",
       "    .dataframe tbody tr th {\n",
       "        vertical-align: top;\n",
       "    }\n",
       "\n",
       "    .dataframe thead th {\n",
       "        text-align: right;\n",
       "    }\n",
       "</style>\n",
       "<table border=\"1\" class=\"dataframe\">\n",
       "  <thead>\n",
       "    <tr style=\"text-align: right;\">\n",
       "      <th></th>\n",
       "      <th>movieId</th>\n",
       "      <th>tag</th>\n",
       "    </tr>\n",
       "  </thead>\n",
       "  <tbody>\n",
       "    <tr>\n",
       "      <th>0</th>\n",
       "      <td>1</td>\n",
       "      <td>[watched, computer animation, disney animated ...</td>\n",
       "    </tr>\n",
       "    <tr>\n",
       "      <th>1</th>\n",
       "      <td>2</td>\n",
       "      <td>[time travel, adapted from:book, board game, c...</td>\n",
       "    </tr>\n",
       "    <tr>\n",
       "      <th>2</th>\n",
       "      <td>3</td>\n",
       "      <td>[old people that is actually funny, sequel fev...</td>\n",
       "    </tr>\n",
       "    <tr>\n",
       "      <th>3</th>\n",
       "      <td>4</td>\n",
       "      <td>[chick flick, revenge, characters, chick flick...</td>\n",
       "    </tr>\n",
       "    <tr>\n",
       "      <th>4</th>\n",
       "      <td>5</td>\n",
       "      <td>[diane keaton, family, sequel, steve martin, w...</td>\n",
       "    </tr>\n",
       "  </tbody>\n",
       "</table>\n",
       "</div>"
      ],
      "text/plain": [
       "   movieId                                                tag\n",
       "0        1  [watched, computer animation, disney animated ...\n",
       "1        2  [time travel, adapted from:book, board game, c...\n",
       "2        3  [old people that is actually funny, sequel fev...\n",
       "3        4  [chick flick, revenge, characters, chick flick...\n",
       "4        5  [diane keaton, family, sequel, steve martin, w..."
      ]
     },
     "execution_count": 5,
     "metadata": {},
     "output_type": "execute_result"
    }
   ],
   "source": [
    "# Aggregate tags by movie id\n",
    "tag_df = tag_df.groupby('movieId').agg(lambda x: list(x)).reset_index()\n",
    "tag_df.head()"
   ]
  },
  {
   "cell_type": "code",
   "execution_count": 6,
   "id": "35cd929a-2af6-4c4b-aaac-aeea1638f020",
   "metadata": {
    "tags": []
   },
   "outputs": [
    {
     "data": {
      "text/html": [
       "<div>\n",
       "<style scoped>\n",
       "    .dataframe tbody tr th:only-of-type {\n",
       "        vertical-align: middle;\n",
       "    }\n",
       "\n",
       "    .dataframe tbody tr th {\n",
       "        vertical-align: top;\n",
       "    }\n",
       "\n",
       "    .dataframe thead th {\n",
       "        text-align: right;\n",
       "    }\n",
       "</style>\n",
       "<table border=\"1\" class=\"dataframe\">\n",
       "  <thead>\n",
       "    <tr style=\"text-align: right;\">\n",
       "      <th></th>\n",
       "      <th>movieId</th>\n",
       "      <th>title</th>\n",
       "      <th>genres</th>\n",
       "    </tr>\n",
       "  </thead>\n",
       "  <tbody>\n",
       "    <tr>\n",
       "      <th>0</th>\n",
       "      <td>1</td>\n",
       "      <td>Toy Story (1995)</td>\n",
       "      <td>Adventure|Animation|Children|Comedy|Fantasy</td>\n",
       "    </tr>\n",
       "    <tr>\n",
       "      <th>1</th>\n",
       "      <td>2</td>\n",
       "      <td>Jumanji (1995)</td>\n",
       "      <td>Adventure|Children|Fantasy</td>\n",
       "    </tr>\n",
       "    <tr>\n",
       "      <th>2</th>\n",
       "      <td>3</td>\n",
       "      <td>Grumpier Old Men (1995)</td>\n",
       "      <td>Comedy|Romance</td>\n",
       "    </tr>\n",
       "    <tr>\n",
       "      <th>3</th>\n",
       "      <td>4</td>\n",
       "      <td>Waiting to Exhale (1995)</td>\n",
       "      <td>Comedy|Drama|Romance</td>\n",
       "    </tr>\n",
       "    <tr>\n",
       "      <th>4</th>\n",
       "      <td>5</td>\n",
       "      <td>Father of the Bride Part II (1995)</td>\n",
       "      <td>Comedy</td>\n",
       "    </tr>\n",
       "  </tbody>\n",
       "</table>\n",
       "</div>"
      ],
      "text/plain": [
       "   movieId                               title   \n",
       "0        1                    Toy Story (1995)  \\\n",
       "1        2                      Jumanji (1995)   \n",
       "2        3             Grumpier Old Men (1995)   \n",
       "3        4            Waiting to Exhale (1995)   \n",
       "4        5  Father of the Bride Part II (1995)   \n",
       "\n",
       "                                        genres  \n",
       "0  Adventure|Animation|Children|Comedy|Fantasy  \n",
       "1                   Adventure|Children|Fantasy  \n",
       "2                               Comedy|Romance  \n",
       "3                         Comedy|Drama|Romance  \n",
       "4                                       Comedy  "
      ]
     },
     "execution_count": 6,
     "metadata": {},
     "output_type": "execute_result"
    }
   ],
   "source": [
    "# Load movies dataframe\n",
    "movie_df = pd.read_csv('data/movie.csv')\n",
    "movie_df.head()"
   ]
  },
  {
   "cell_type": "code",
   "execution_count": 7,
   "id": "2a1acf77-f9e3-4d58-b5ae-6ec9e42493ec",
   "metadata": {
    "tags": []
   },
   "outputs": [
    {
     "data": {
      "text/plain": [
       "{'(no genres listed)',\n",
       " 'Action',\n",
       " 'Adventure',\n",
       " 'Animation',\n",
       " 'Children',\n",
       " 'Comedy',\n",
       " 'Crime',\n",
       " 'Documentary',\n",
       " 'Drama',\n",
       " 'Fantasy',\n",
       " 'Film-Noir',\n",
       " 'Horror',\n",
       " 'IMAX',\n",
       " 'Musical',\n",
       " 'Mystery',\n",
       " 'Romance',\n",
       " 'Sci-Fi',\n",
       " 'Thriller',\n",
       " 'War',\n",
       " 'Western'}"
      ]
     },
     "execution_count": 7,
     "metadata": {},
     "output_type": "execute_result"
    }
   ],
   "source": [
    "# Create list of genres\n",
    "all_genres = list()\n",
    "\n",
    "for genres in movie_df['genres']:\n",
    "    splitted_genres = genres.split(\"|\")\n",
    "    all_genres += splitted_genres\n",
    "    \n",
    "all_genres = set(all_genres)\n",
    "all_genres"
   ]
  },
  {
   "cell_type": "code",
   "execution_count": 8,
   "id": "7bee0130-d067-4796-aecc-443d756a3a41",
   "metadata": {
    "tags": []
   },
   "outputs": [],
   "source": [
    "# Remove '(no genres listed)' from genres list and replace in the dataframe\n",
    "all_genres.remove('(no genres listed)')\n",
    "movie_df['genres'] = movie_df['genres'].str.replace('(no genres listed)', '')"
   ]
  },
  {
   "cell_type": "code",
   "execution_count": 9,
   "id": "2c7ef298-b874-439b-a0f8-61102f921ff0",
   "metadata": {
    "tags": []
   },
   "outputs": [],
   "source": [
    "# Set all values to lower case to create the tag list\n",
    "movie_df['genres'] = movie_df['genres'].str.lower()"
   ]
  },
  {
   "cell_type": "code",
   "execution_count": 10,
   "id": "dc9d09de-302f-476e-934c-a940c3222908",
   "metadata": {
    "tags": []
   },
   "outputs": [],
   "source": [
    "# Transform genres into a list\n",
    "movie_df['genres'] = movie_df['genres'].str.split('|')"
   ]
  },
  {
   "cell_type": "code",
   "execution_count": 11,
   "id": "4533ce00-772e-433f-8973-1744213108bb",
   "metadata": {
    "tags": []
   },
   "outputs": [],
   "source": [
    "# Join tags and genres in a dictionary\n",
    "\n",
    "tags_and_genres = dict()\n",
    "\n",
    "for movie in movie_df.iterrows():\n",
    "    movieId = movie[1]['movieId']\n",
    "    genres = movie[1]['genres']\n",
    "    tags = []\n",
    "    if len(tag_df[tag_df['movieId'] == movieId]['tag']) > 0:\n",
    "        tags = tag_df[tag_df['movieId'] == movieId]['tag'].values[0]\n",
    "    \n",
    "    tags_and_genres[movieId] = genres + tags"
   ]
  },
  {
   "cell_type": "code",
   "execution_count": 12,
   "id": "088ff804-59b1-4689-b16d-d4894a72f990",
   "metadata": {
    "tags": []
   },
   "outputs": [],
   "source": [
    "# Function to retrieve movie id\n",
    "def getMovieId(name):\n",
    "    return movie_df[movie_df['title'].str.contains(name)][['movieId', 'title']]"
   ]
  },
  {
   "cell_type": "code",
   "execution_count": 13,
   "id": "bc382d11-0105-4d45-a2b5-6e2294e7cf48",
   "metadata": {
    "tags": []
   },
   "outputs": [],
   "source": [
    "# Function to calculate similarity between two lists\n",
    "\n",
    "from collections import Counter\n",
    "import math\n",
    "\n",
    "def counter_cosine_similarity(list1, list2):\n",
    "    # Transform list into Counter objects\n",
    "    c1 = Counter(list1)\n",
    "    c2 = Counter(list2)\n",
    "\n",
    "    # Create a list of unique terms\n",
    "    terms = set(c1).union(c2)\n",
    "\n",
    "    # Calculate Consine similarity\n",
    "    # More info: https://en.wikipedia.org/wiki/Cosine_similarity\n",
    "    dotprod = sum(c1.get(k, 0) * c2.get(k, 0) for k in terms)\n",
    "    magA = math.sqrt(sum(c1.get(k, 0) ** 2 for k in terms))\n",
    "    magB = math.sqrt(sum(c2.get(k, 0) ** 2 for k in terms))\n",
    "\n",
    "    return dotprod / (magA * magB)"
   ]
  },
  {
   "cell_type": "code",
   "execution_count": 39,
   "id": "7df6e4fc-7c61-4f04-a0ff-7c11114eff83",
   "metadata": {
    "tags": []
   },
   "outputs": [],
   "source": [
    "# Function to return similar movies\n",
    "\n",
    "def getSimilarMovies(movieId1):\n",
    "    tagsMovie1 = tags_and_genres[movieId1]\n",
    "    similar_movies = []\n",
    "    for movie in movie_df.iterrows():\n",
    "        movieId2 = movie[1]['movieId']\n",
    "        if movieId1 == movieId2:\n",
    "            continue\n",
    "        similarity = counter_cosine_similarity(tagsMovie1, tags_and_genres[movieId2])\n",
    "        if similarity > 0.5:\n",
    "            rounded_similarity = round(similarity * 100, 1)\n",
    "            movie_title = movie[1]['title']\n",
    "            similar_movies.append(movie_title)\n",
    "            print(f'Similarity {rounded_similarity}% - {movie_title}')\n",
    "    if len(similar_movies) == 0:\n",
    "        print('Similar movies not found')"
   ]
  },
  {
   "cell_type": "code",
   "execution_count": 44,
   "id": "909bb446-be53-4366-bc4f-11d97f679c42",
   "metadata": {
    "tags": []
   },
   "outputs": [
    {
     "data": {
      "text/html": [
       "<div>\n",
       "<style scoped>\n",
       "    .dataframe tbody tr th:only-of-type {\n",
       "        vertical-align: middle;\n",
       "    }\n",
       "\n",
       "    .dataframe tbody tr th {\n",
       "        vertical-align: top;\n",
       "    }\n",
       "\n",
       "    .dataframe thead th {\n",
       "        text-align: right;\n",
       "    }\n",
       "</style>\n",
       "<table border=\"1\" class=\"dataframe\">\n",
       "  <thead>\n",
       "    <tr style=\"text-align: right;\">\n",
       "      <th></th>\n",
       "      <th>movieId</th>\n",
       "      <th>title</th>\n",
       "    </tr>\n",
       "  </thead>\n",
       "  <tbody>\n",
       "    <tr>\n",
       "      <th>293</th>\n",
       "      <td>296</td>\n",
       "      <td>Pulp Fiction (1994)</td>\n",
       "    </tr>\n",
       "  </tbody>\n",
       "</table>\n",
       "</div>"
      ],
      "text/plain": [
       "     movieId                title\n",
       "293      296  Pulp Fiction (1994)"
      ]
     },
     "execution_count": 44,
     "metadata": {},
     "output_type": "execute_result"
    }
   ],
   "source": [
    "getMovieId('Pulp Fiction')"
   ]
  },
  {
   "cell_type": "code",
   "execution_count": 45,
   "id": "f86a06d9-b5da-4ab3-b374-057c9ffdd5b5",
   "metadata": {
    "tags": []
   },
   "outputs": [
    {
     "name": "stdout",
     "output_type": "stream",
     "text": [
      "Similarity 57.8% - Four Rooms (1995)\n",
      "Similarity 74.3% - Reservoir Dogs (1992)\n",
      "Similarity 66.7% - Jackie Brown (1997)\n",
      "Similarity 61.1% - Kill Bill: Vol. 1 (2003)\n",
      "Similarity 60.2% - Kill Bill: Vol. 2 (2004)\n",
      "Similarity 57.1% - Sin City (2005)\n"
     ]
    }
   ],
   "source": [
    "getSimilarMovies(296)"
   ]
  },
  {
   "cell_type": "code",
   "execution_count": null,
   "id": "65e84925-5915-4fcb-84cf-8ff5eeed3ad6",
   "metadata": {},
   "outputs": [],
   "source": []
  }
 ],
 "metadata": {
  "kernelspec": {
   "display_name": "Python 3 (ipykernel)",
   "language": "python",
   "name": "python3"
  },
  "language_info": {
   "codemirror_mode": {
    "name": "ipython",
    "version": 3
   },
   "file_extension": ".py",
   "mimetype": "text/x-python",
   "name": "python",
   "nbconvert_exporter": "python",
   "pygments_lexer": "ipython3",
   "version": "3.10.11"
  }
 },
 "nbformat": 4,
 "nbformat_minor": 5
}
